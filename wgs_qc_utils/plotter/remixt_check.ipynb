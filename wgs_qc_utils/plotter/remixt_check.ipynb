{
 "cells": [
  {
   "cell_type": "code",
   "execution_count": null,
   "metadata": {},
   "outputs": [
    {
     "name": "stderr",
     "output_type": "stream",
     "text": [
      "/home/abramsd/miniconda3/envs/mypython3/lib/python3.7/site-packages/IPython/core/interactiveshell.py:3254: DtypeWarning: Columns (19) have mixed types.Specify dtype option on import or set low_memory=False.\n",
      "  if (await self.run_code(code, result,  async_=asy)):\n"
     ]
    },
    {
     "name": "stdout",
     "output_type": "stream",
     "text": [
      "     chromosome      start        end  major_is_allele_a         length  \\\n",
      "0             1      10000     177417                  1   11193.731532   \n",
      "1             1     227417     267719                  1    2195.593129   \n",
      "2             1     317719     471368                  1      64.076578   \n",
      "3             1     521368     977416                  1  206151.258190   \n",
      "4             1     977416    1000000                  1   18072.071491   \n",
      "...         ...        ...        ...                ...            ...   \n",
      "6947          X  153000000  153500000                  1  375005.611907   \n",
      "6948          X  153500000  154000000                  1  355208.737410   \n",
      "6949          X  154000000  154500000                  1  496769.790753   \n",
      "6950          X  154500000  155000000                  1  397527.516469   \n",
      "6951          X  155000000  155260560                  1  242333.577128   \n",
      "\n",
      "      major_readcount  minor_readcount  readcount  allele_ratio  major_depth  \\\n",
      "0                 914              400      34612      0.304414     2.150813   \n",
      "1                 386              221      11202      0.364086     3.244459   \n",
      "2                   0                0       1164      0.000000    18.165764   \n",
      "3                2755             1514     175172      0.354650     0.548371   \n",
      "4                 338              189      11193      0.358634     0.397232   \n",
      "...               ...              ...        ...           ...          ...   \n",
      "6947             1509              925     148909      0.380033     0.246179   \n",
      "6948              817              420     147213      0.339531     0.273725   \n",
      "6949             1864              996     220072      0.348252     0.288728   \n",
      "6950            21350            10799     185233      0.335905     0.309444   \n",
      "6951                0                0     113057      0.000000     0.466535   \n",
      "\n",
      "      ...  total_likelihood_mask  allele_likelihood_mask  total_1  total_2  \\\n",
      "0     ...                      0                       0      2.0      4.0   \n",
      "1     ...                      0                       0      2.0      4.0   \n",
      "2     ...                      0                       0      2.0      4.0   \n",
      "3     ...                      0                       0      2.0      4.0   \n",
      "4     ...                      1                       1      3.0      5.0   \n",
      "...   ...                    ...                     ...      ...      ...   \n",
      "6947  ...                      1                       1      3.0      3.0   \n",
      "6948  ...                      1                       0      3.0      3.0   \n",
      "6949  ...                      1                       1      3.0      3.0   \n",
      "6950  ...                      1                       1      3.0      3.0   \n",
      "6951  ...                      1                       0      3.0      3.0   \n",
      "\n",
      "      major  minor  total  is_subclonal  tumour_content  total_raw_e  \n",
      "0       3.0    1.0    4.0             1        0.823332     3.800783  \n",
      "1       3.0    1.0    4.0             1        0.823332     3.800783  \n",
      "2       3.0    1.0    4.0             1        0.823332     3.800783  \n",
      "3       3.0    1.0    4.0             1        0.823332     3.800783  \n",
      "4       3.0    2.0    5.0             1        0.823332     4.800783  \n",
      "...     ...    ...    ...           ...             ...          ...  \n",
      "6947    2.0    1.0    3.0             0        0.823332     3.000000  \n",
      "6948    2.0    1.0    3.0             0        0.823332     3.000000  \n",
      "6949    2.0    1.0    3.0             0        0.823332     3.000000  \n",
      "6950    2.0    1.0    3.0             0        0.823332     3.000000  \n",
      "6951    2.0    1.0    3.0             0        0.823332     3.000000  \n",
      "\n",
      "[6952 rows x 42 columns]\n"
     ]
    }
   ],
   "source": [
    "from wgs_qc_utils.reader import read_remixt\n",
    "from wgs_qc_utils.reader import read_variant_calls\n",
    "from wgs_qc_utils.reader import parse_snv_cn\n",
    "from wgs_qc_utils.plotter import snv_cn\n",
    "import matplotlib.pyplot as plt\n",
    "\n",
    "remixt = read_remixt.read(\"/work/shah/mcphera1/remixt/apollo/analysis/A001/results_ADT001.h5\", \"ADT001\")\n",
    "somatic = read_variant_calls.read_consensus_csv(\"/juno/work/shah/users/vatrtwaa/apollo/results/VAR/BATCH1/results/variants/ADG001_ADT001/ADG001_ADT001_consensus_somatic.csv.gz\")\n",
    "\n",
    "snv_copynumber = parse_snv_cn.parse(somatic, remixt)\n",
    "\n",
    "chrom = \"1\"\n",
    "snvcn = parse_snv_cn.prepare_at_chrom(snv_copynumber, chrom)\n",
    "\n",
    "\n"
   ]
  },
  {
   "cell_type": "code",
   "execution_count": null,
   "metadata": {},
   "outputs": [],
   "source": [
    "fig, axes = plt.subplots(2,2)\n",
    "\n",
    "axes[0]  = snv_cn.plot_scatter(snvcn.pos,snvcn.frac_cn, axes[0])\n",
    "axes[1] = snv_cn.plot_hist(snvcn.frac_cn, axes[1])\n",
    "\n",
    "plt.show()"
   ]
  }
 ],
 "metadata": {
  "kernelspec": {
   "display_name": "Python 3",
   "language": "python",
   "name": "python3"
  },
  "language_info": {
   "codemirror_mode": {
    "name": "ipython",
    "version": 3
   },
   "file_extension": ".py",
   "mimetype": "text/x-python",
   "name": "python",
   "nbconvert_exporter": "python",
   "pygments_lexer": "ipython3",
   "version": "3.7.1"
  }
 },
 "nbformat": 4,
 "nbformat_minor": 4
}
