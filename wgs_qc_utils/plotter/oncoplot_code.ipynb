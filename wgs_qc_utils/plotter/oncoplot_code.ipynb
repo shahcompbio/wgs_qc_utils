{
 "cells": [
  {
   "cell_type": "code",
   "execution_count": 7,
   "metadata": {},
   "outputs": [
    {
     "name": "stdout",
     "output_type": "stream",
     "text": [
      "-Reading\n",
      "-Validating\n",
      "--Removed 286271 duplicated variants\n",
      "-Silent variants: 936518 \n",
      "-Summarizing\n",
      "--Possible FLAGS among top ten genes:\n",
      "  TTN\n",
      "  MUC16\n",
      "  AHNAK2\n",
      "-Processing clinical data\n",
      "--Missing clinical data\n",
      "-Finished in 14.4s elapsed (00:04:37 cpu) \n"
     ]
    }
   ],
   "source": [
    "library(maftools);\n",
    "library(R.utils);\n",
    "\n",
    "\n",
    "apollo_maf = \"/juno/work/shah/users/vatrtwaa/cbioportal_tools/example/apollo_outputs/data_mutations_extended.maf\"\n",
    "\n",
    "spectrum_maf = \"/juno/work/shah/users/vatrtwaa/cbioportal_tools/example/diljot_outputs/data_mutations_extended.maf\"\n",
    "\n",
    "spectrum_laml = read.maf(maf = spectrum_maf);\n",
    "\n",
    "spectrum_data = read.csv(spectrum_maf, sep=\"\\t\")\n",
    "\n",
    "\n",
    "# apollo_laml = read.maf(maf = apollo_maf);\n",
    "\n",
    "# apollo_data = read.csv(apollo_maf, sep=\"\\t\")\n",
    "\n",
    "\n",
    "\n",
    "\n"
   ]
  },
  {
   "cell_type": "code",
   "execution_count": null,
   "metadata": {},
   "outputs": [],
   "source": [
    "preset_genes =c(\"TPF3\", \"BRCA1\", \"CDK12\", \"NF1\", \"BRCA2\", \"RHGAP26\", \"BTK\", \"KMT2C\", \"NF2\", \"PBRM1\")\n",
    "\n",
    "oncoplot(maf=spectrum_laml, genes=preset_genes)"
   ]
  },
  {
   "cell_type": "code",
   "execution_count": null,
   "metadata": {},
   "outputs": [],
   "source": [
    "preset_genes =c(\"TPF3\", \"BRCA1\", \"CDK12\", \"NF1\", \"BRCA2\", \"RHGAP26\", \"BTK\", \"KMT2C\", \"NF2\", \"PBRM1\")\n",
    "\n",
    "oncoplot(maf=spectrum_laml, top=10)"
   ]
  },
  {
   "cell_type": "code",
   "execution_count": null,
   "metadata": {},
   "outputs": [],
   "source": [
    "\n",
    "filt_spectrum_data <- filt_spectrum_data[,colSums(is.na(filt_spectrum_data))<nrow(filt_spectrum_data)]\n",
    "filt_spectrum_data = filt_spectrum_data[filt_spectrum_data$IMPACT==\"HIGH\",]\n",
    "write.csv(filt_spectrum_data, \"filt_spectrum\", sep=\"\\t\")\n",
    "\n",
    "\n",
    "filt_spectrum_laml = read.maf(maf = \"filt_spectrum\");\n",
    "\n",
    "\n",
    "oncoplot(maf=spectrum_laml, top=10)\n"
   ]
  },
  {
   "cell_type": "code",
   "execution_count": null,
   "metadata": {},
   "outputs": [],
   "source": [
    "write.plotmafSummary(maf = spectrum_laml, basename=\"output\", rmOutlier = TRUE, addStat = 'median', dashboard = TRUE, titvRaw = FALSE)\n"
   ]
  }
 ],
 "metadata": {
  "kernelspec": {
   "display_name": "R",
   "language": "R",
   "name": "ir"
  },
  "language_info": {
   "codemirror_mode": "r",
   "file_extension": ".r",
   "mimetype": "text/x-r-source",
   "name": "R",
   "pygments_lexer": "r",
   "version": "4.0.0"
  }
 },
 "nbformat": 4,
 "nbformat_minor": 4
}
