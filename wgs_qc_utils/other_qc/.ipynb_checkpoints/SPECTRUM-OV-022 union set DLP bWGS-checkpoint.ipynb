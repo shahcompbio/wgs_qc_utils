{
 "cells": [
  {
   "cell_type": "code",
   "execution_count": 19,
   "metadata": {},
   "outputs": [],
   "source": [
    "import pandas as pd\n",
    "from wgs_qc_utils.reader import read_variant_calls\n",
    "\n",
    "dlp_museq = '/work/shah/tantalus/SC-3804/results/variant_calling/sample_SA1255LA/museq.vcf.gz'\n",
    "dlp_strelka = '/work/shah/tantalus/SC-3804/results/variant_calling/sample_SA1255LA/strelka_snv.vcf.gz'\n",
    "\n",
    "wgs_museq = '/juno/work/shah/dgrewal/SPECTRUM_RESULTS/variants/022LA_T_IGO_09443_AQ_1/022LA_T_IGO_09443_AQ_1_museq_paired_annotated.vcf.gz'\n",
    "wgs_strelka = '/juno/work/shah/dgrewal/SPECTRUM_RESULTS/variants/022LA_T_IGO_09443_AQ_1/022LA_T_IGO_09443_AQ_1_strelka_snv_annotated.vcf.gz'"
   ]
  },
  {
   "cell_type": "code",
   "execution_count": 20,
   "metadata": {},
   "outputs": [],
   "source": [
    "dlp_museq = read_variant_calls.read_with_tumour(dlp_museq)\n",
    "dlp_strelka = read_variant_calls.read_with_tumour(dlp_strelka)"
   ]
  },
  {
   "cell_type": "code",
   "execution_count": 34,
   "metadata": {},
   "outputs": [],
   "source": [
    "dlp_museq[\"caller\"] = [\"mutationseq\"] * len(dlp_museq.index)\n",
    "dlp_strelka[\"caller\"] = [\"strelka\"] * len(dlp_strelka.index)\n",
    "\n",
    "DLP = pd.concat([dlp_museq, dlp_strelka])\n",
    "DLP[\"score\"] = DLP[\"info\"].str.split(\";\")\n",
    "DLP[\"score\"] = DLP.score.apply(lambda score: score[0])\n"
   ]
  },
  {
   "cell_type": "code",
   "execution_count": 35,
   "metadata": {},
   "outputs": [
    {
     "name": "stdout",
     "output_type": "stream",
     "text": [
      "0        PR=0.51\n",
      "1        PR=0.61\n",
      "2        PR=0.61\n",
      "3        PR=0.61\n",
      "4        PR=0.66\n",
      "          ...   \n",
      "40865     QSS=41\n",
      "40866     QSS=26\n",
      "40867     QSS=73\n",
      "40868     QSS=16\n",
      "40869     QSS=19\n",
      "Name: score, Length: 137567, dtype: object\n"
     ]
    }
   ],
   "source": [
    "print(DLP[\"score\"])"
   ]
  },
  {
   "cell_type": "code",
   "execution_count": null,
   "metadata": {},
   "outputs": [],
   "source": []
  }
 ],
 "metadata": {
  "kernelspec": {
   "display_name": "mypython3",
   "language": "python",
   "name": "mypython3"
  },
  "language_info": {
   "codemirror_mode": {
    "name": "ipython",
    "version": 3
   },
   "file_extension": ".py",
   "mimetype": "text/x-python",
   "name": "python",
   "nbconvert_exporter": "python",
   "pygments_lexer": "ipython3",
   "version": "3.7.1"
  }
 },
 "nbformat": 4,
 "nbformat_minor": 2
}
