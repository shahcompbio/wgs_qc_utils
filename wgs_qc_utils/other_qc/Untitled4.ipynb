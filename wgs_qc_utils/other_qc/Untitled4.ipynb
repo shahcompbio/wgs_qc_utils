{
 "cells": [
  {
   "cell_type": "code",
   "execution_count": 10,
   "metadata": {},
   "outputs": [],
   "source": [
    "import pandas as pd\n",
    "import numpy as np\n",
    "from wgs_qc_utils.reader import read_variant_calls\n",
    "\n",
    "data = pd.read_csv(\"DLP_wgs_counts_with_wgs_concordance.csv\", sep=\"\\t\")\n",
    "data2=data"
   ]
  },
  {
   "cell_type": "code",
   "execution_count": 11,
   "metadata": {},
   "outputs": [],
   "source": [
    "dlp_museq_file = '/work/shah/tantalus/SC-3804/results/variant_calling/sample_SA1255LA/museq.vcf.gz'\n",
    "dlp_strelka_file = '/work/shah/tantalus/SC-3804/results/variant_calling/sample_SA1255LA/strelka_snv.vcf.gz'\n",
    "\n",
    "dlp_museq = read_variant_calls.read_with_tumour(dlp_museq_file)\n",
    "dlp_museq = dlp_museq.astype({\"AC_normal\": \"int\", \"AC_tumour\": \"int\", \"RC_normal\": \"int\", \"RC_tumour\": \"int\"})\n",
    "\n",
    "dlp_museq[\"tumour_vaf\"] = dlp_museq.AC_normal/(dlp_museq.AC_normal+dlp_museq.RC_normal)\n",
    "dlp_museq[\"normal_vaf\"] = dlp_museq.AC_tumour/(dlp_museq.AC_tumour+dlp_museq.RC_tumour)\n",
    "\n",
    "dlp_museq=dlp_museq[[\"chr\", \"pos\",\"alt\", \"ref\", \"normal_vaf\", \"tumour_vaf\"]]\n",
    "\n",
    "\n"
   ]
  },
  {
   "cell_type": "code",
   "execution_count": 9,
   "metadata": {},
   "outputs": [
    {
     "data": {
      "text/plain": [
       "Index(['chr', 'pos', 'id', 'ref', 'alt', 'qual', 'filter', 'info', 'RC_normal',\n",
       "       'AC_normal', 'NI_normal', 'ND_normal', 'DP_normal', 'GT_normal',\n",
       "       'PL_normal', 'RC_tumour', 'AC_tumour', 'NI_tumour', 'ND_tumour',\n",
       "       'DP_tumour', 'GT_tumour', 'PL_tumour'],\n",
       "      dtype='object')"
      ]
     },
     "execution_count": 9,
     "metadata": {},
     "output_type": "execute_result"
    }
   ],
   "source": [
    "dlp_museq.columns"
   ]
  },
  {
   "cell_type": "code",
   "execution_count": 13,
   "metadata": {},
   "outputs": [
    {
     "name": "stderr",
     "output_type": "stream",
     "text": [
      "/home/abramsd/miniconda3/envs/mypython3/lib/python3.7/site-packages/ipykernel_launcher.py:8: SettingWithCopyWarning: \n",
      "A value is trying to be set on a copy of a slice from a DataFrame.\n",
      "Try using .loc[row_indexer,col_indexer] = value instead\n",
      "\n",
      "See the caveats in the documentation: https://pandas.pydata.org/pandas-docs/stable/user_guide/indexing.html#returning-a-view-versus-a-copy\n",
      "  \n"
     ]
    }
   ],
   "source": [
    "data[\"dlp_museq_score\"] = data.dlp_museq_score.apply(lambda pr: pr.split(\"=\")[1] if isinstance(pr, str) else \"\")\n",
    "data[\"dlp_museq_score\"] = data.dlp_museq_score.apply(lambda pr: float(pr) if pr!=\"\" else np.nan)\n",
    "\n",
    "data[\"dlp_strelka_score\"] = data.dlp_strelka_score.apply(lambda pr: pr.split(\"=\")[1] if   isinstance(pr, str) else \"\")\n",
    "data[\"dlp_strelka_score\"] = data.dlp_strelka_score.apply(lambda pr: float(pr) if pr!=\"\" else np.nan)\n",
    "\n",
    "data = data[(data.dlp_museq_score > 0.8) & (data.dlp_strelka_score>20)]\n",
    "data[\"wgs_vaf\"] = data.tumour_alt/(data.tumour_alt +data.tumour_ref)\n",
    "\n",
    "\n",
    "data=data.merge(dlp_museq, on=[\"chr\", \"pos\", \"alt\", \"ref\"], how=\"outer\")\n",
    "# data[\"dlp_museq_vaf\"] = [np.nan] *len(data.index)\n",
    "# data.loc[data[data.dlp_museq_caller==True], \"dlp_museq_vaf\"] = dlp_museq.tumour_vaf"
   ]
  },
  {
   "cell_type": "code",
   "execution_count": 15,
   "metadata": {},
   "outputs": [
    {
     "data": {
      "text/plain": [
       "(array([1.000e+01, 1.380e+02, 8.240e+02, 2.113e+03, 3.745e+03, 5.876e+03,\n",
       "        7.292e+03, 7.299e+03, 7.819e+03, 5.834e+03, 6.150e+03, 4.617e+03,\n",
       "        4.560e+03, 3.373e+03, 3.354e+03, 3.022e+03, 2.457e+03, 2.325e+03,\n",
       "        1.540e+03, 2.365e+03, 1.601e+03, 1.662e+03, 1.393e+03, 7.860e+02,\n",
       "        1.624e+03, 9.330e+02, 9.570e+02, 9.820e+02, 6.250e+02, 8.830e+02,\n",
       "        5.260e+02, 5.040e+02, 9.620e+02, 4.360e+02, 4.720e+02, 3.850e+02,\n",
       "        4.850e+02, 3.770e+02, 2.550e+02, 5.890e+02, 3.950e+02, 2.370e+02,\n",
       "        3.700e+02, 3.250e+02, 2.120e+02, 2.320e+02, 2.340e+02, 1.970e+02,\n",
       "        1.260e+02, 5.420e+02, 1.270e+02, 1.340e+02, 1.530e+02, 1.170e+02,\n",
       "        1.410e+02, 1.470e+02, 1.750e+02, 7.800e+01, 6.300e+01, 1.440e+02,\n",
       "        5.900e+01, 6.000e+01, 6.100e+01, 6.200e+01, 3.100e+01, 1.700e+01,\n",
       "        1.190e+02, 3.500e+01, 3.100e+01, 2.500e+01, 3.000e+01, 5.600e+01,\n",
       "        1.700e+01, 2.300e+01, 1.190e+02, 1.400e+01, 2.300e+01, 3.900e+01,\n",
       "        2.800e+01, 7.400e+01, 2.700e+01, 3.000e+01, 1.600e+01, 4.600e+01,\n",
       "        3.500e+01, 2.900e+01, 2.400e+01, 3.100e+01, 3.000e+01, 1.800e+01,\n",
       "        1.400e+01, 1.400e+01, 1.200e+01, 1.300e+01, 7.000e+00, 1.200e+01,\n",
       "        8.000e+00, 3.000e+00, 1.000e+00, 1.050e+02]),\n",
       " array([0.01150895, 0.02139386, 0.03127877, 0.04116368, 0.05104859,\n",
       "        0.0609335 , 0.07081841, 0.08070332, 0.09058824, 0.10047315,\n",
       "        0.11035806, 0.12024297, 0.13012788, 0.14001279, 0.1498977 ,\n",
       "        0.15978261, 0.16966752, 0.17955243, 0.18943734, 0.19932225,\n",
       "        0.20920716, 0.21909207, 0.22897698, 0.23886189, 0.2487468 ,\n",
       "        0.25863171, 0.26851662, 0.27840153, 0.28828645, 0.29817136,\n",
       "        0.30805627, 0.31794118, 0.32782609, 0.337711  , 0.34759591,\n",
       "        0.35748082, 0.36736573, 0.37725064, 0.38713555, 0.39702046,\n",
       "        0.40690537, 0.41679028, 0.42667519, 0.4365601 , 0.44644501,\n",
       "        0.45632992, 0.46621483, 0.47609974, 0.48598465, 0.49586957,\n",
       "        0.50575448, 0.51563939, 0.5255243 , 0.53540921, 0.54529412,\n",
       "        0.55517903, 0.56506394, 0.57494885, 0.58483376, 0.59471867,\n",
       "        0.60460358, 0.61448849, 0.6243734 , 0.63425831, 0.64414322,\n",
       "        0.65402813, 0.66391304, 0.67379795, 0.68368286, 0.69356777,\n",
       "        0.70345269, 0.7133376 , 0.72322251, 0.73310742, 0.74299233,\n",
       "        0.75287724, 0.76276215, 0.77264706, 0.78253197, 0.79241688,\n",
       "        0.80230179, 0.8121867 , 0.82207161, 0.83195652, 0.84184143,\n",
       "        0.85172634, 0.86161125, 0.87149616, 0.88138107, 0.89126598,\n",
       "        0.9011509 , 0.91103581, 0.92092072, 0.93080563, 0.94069054,\n",
       "        0.95057545, 0.96046036, 0.97034527, 0.98023018, 0.99011509,\n",
       "        1.        ]),\n",
       " <BarContainer object of 100 artists>)"
      ]
     },
     "execution_count": 15,
     "metadata": {},
     "output_type": "execute_result"
    },
    {
     "data": {
      "image/png": "[encoded data removed]",
      "text/plain": [
       "<Figure size 432x288 with 1 Axes>"
      ]
     },
     "metadata": {
      "needs_background": "light"
     },
     "output_type": "display_data"
    }
   ],
   "source": [
    "import matplotlib.pyplot as plt\n",
    "\n",
    "plt.hist(data.tumour_vaf, bins=100)"
   ]
  },
  {
   "cell_type": "code",
   "execution_count": 72,
   "metadata": {},
   "outputs": [
    {
     "name": "stdout",
     "output_type": "stream",
     "text": [
      "3  in common\n",
      "10710  just in dlp\n"
     ]
    }
   ],
   "source": [
    "print(len(data[(data.in_wgs_museq==True ) & (data.in_wgs_strelka==True )].index), \" in common\")\n",
    "print(len(data[(data.in_wgs_museq==False ) & (data.in_wgs_strelka==False )].index), \" just in dlp\")"
   ]
  },
  {
   "cell_type": "code",
   "execution_count": 68,
   "metadata": {},
   "outputs": [
    {
     "data": {
      "text/plain": [
       "Text(0.5, 1.0, 'wgs vaf of dlp snvs PR > 0.8 QSS > 20')"
      ]
     },
     "execution_count": 68,
     "metadata": {},
     "output_type": "execute_result"
    },
    {
     "data": {
      "image/png": "[encoded data removed]",
      "text/plain": [
       "<Figure size 432x288 with 1 Axes>"
      ]
     },
     "metadata": {
      "needs_background": "light"
     },
     "output_type": "display_data"
    }
   ],
   "source": [
    "# most_sure = data[(data.dlp_museq_caller ==True )  & (data.dlp_strelka_caller ==True)]\n",
    "# most_sure[\"alt_count_pseudonormalized\"] =  most_sure.tumour_alt/most_sure.normal_alt.replace(0, 1)\n",
    "\n",
    "import matplotlib.pyplot as plt\n",
    "# f, axes = plt.subplots(2,2, figsize=(15,5))\n",
    "\n",
    "# axes[0][0].set_yscale(\"log\")\n",
    "# axes[0][0].hist(most_sure.alt_count_pseudonormalized, bins=100)\n",
    "# axes[0][1].set_yscale(\"log\")\n",
    "# axes[0][1].hist(most_sure.tumour_alt, bins=100)\n",
    "\n",
    "# axes[1][0].hist(most_sure.alt_count_pseudonormalized, bins=100)\n",
    "# axes[1][1].hist(most_sure.tumour_alt, bins=100)\n",
    "\n",
    "# axes[0][0].set_title(\"Log(tumour read count supportal alt/normal read count supporting alt)\")\n",
    "# axes[0][1].set_title(\"Log(tumour read count supportal alt)\")\n",
    "# axes[1][0].set_title(\"tumour read count supportal alt/normal read count supporting alt\")\n",
    "# axes[1][1].set_title(\"tumour read count supportal alt\")\n",
    "# plt.hist(data.wgs_vaf, bins=100)\n",
    "# plt.tight_layout()\n",
    "# plt.title(\"wgs vaf of dlp snvs PR > 0.8 QSS > 20\")\n",
    "# len(most_sure[most_sure.alt_count_pseudonormalized > 2.5].index)/len(most_sure.index) * 100"
   ]
  },
  {
   "cell_type": "code",
   "execution_count": 44,
   "metadata": {},
   "outputs": [
    {
     "data": {
      "text/html": [
       "<div>\n",
       "<style scoped>\n",
       "    .dataframe tbody tr th:only-of-type {\n",
       "        vertical-align: middle;\n",
       "    }\n",
       "\n",
       "    .dataframe tbody tr th {\n",
       "        vertical-align: top;\n",
       "    }\n",
       "\n",
       "    .dataframe thead th {\n",
       "        text-align: right;\n",
       "    }\n",
       "</style>\n",
       "<table border=\"1\" class=\"dataframe\">\n",
       "  <thead>\n",
       "    <tr style=\"text-align: right;\">\n",
       "      <th></th>\n",
       "      <th>chr</th>\n",
       "      <th>pos</th>\n",
       "      <th>ref</th>\n",
       "      <th>alt</th>\n",
       "      <th>dlp_museq_caller</th>\n",
       "      <th>dlp_museq_score</th>\n",
       "      <th>dlp_strelka_caller</th>\n",
       "      <th>dlp_strelka_score</th>\n",
       "      <th>dlp_datatype</th>\n",
       "      <th>normal_ref</th>\n",
       "      <th>normal_alt</th>\n",
       "      <th>tumour_ref</th>\n",
       "      <th>tumour_alt</th>\n",
       "      <th>in_wgs_museq</th>\n",
       "      <th>in_wgs_strelka</th>\n",
       "    </tr>\n",
       "  </thead>\n",
       "  <tbody>\n",
       "    <tr>\n",
       "      <th>508</th>\n",
       "      <td>1</td>\n",
       "      <td>15348612</td>\n",
       "      <td>G</td>\n",
       "      <td>A</td>\n",
       "      <td>True</td>\n",
       "      <td>0.99</td>\n",
       "      <td>True</td>\n",
       "      <td>135.0</td>\n",
       "      <td>DLP</td>\n",
       "      <td>48</td>\n",
       "      <td>0</td>\n",
       "      <td>19</td>\n",
       "      <td>48</td>\n",
       "      <td>True</td>\n",
       "      <td>True</td>\n",
       "    </tr>\n",
       "    <tr>\n",
       "      <th>2729</th>\n",
       "      <td>1</td>\n",
       "      <td>98435392</td>\n",
       "      <td>G</td>\n",
       "      <td>A</td>\n",
       "      <td>True</td>\n",
       "      <td>0.70</td>\n",
       "      <td>False</td>\n",
       "      <td>NaN</td>\n",
       "      <td>DLP</td>\n",
       "      <td>27</td>\n",
       "      <td>0</td>\n",
       "      <td>64</td>\n",
       "      <td>4</td>\n",
       "      <td>True</td>\n",
       "      <td>True</td>\n",
       "    </tr>\n",
       "    <tr>\n",
       "      <th>3994</th>\n",
       "      <td>1</td>\n",
       "      <td>158662829</td>\n",
       "      <td>T</td>\n",
       "      <td>A</td>\n",
       "      <td>True</td>\n",
       "      <td>0.96</td>\n",
       "      <td>True</td>\n",
       "      <td>34.0</td>\n",
       "      <td>DLP</td>\n",
       "      <td>43</td>\n",
       "      <td>0</td>\n",
       "      <td>39</td>\n",
       "      <td>14</td>\n",
       "      <td>True</td>\n",
       "      <td>True</td>\n",
       "    </tr>\n",
       "    <tr>\n",
       "      <th>4048</th>\n",
       "      <td>1</td>\n",
       "      <td>161114858</td>\n",
       "      <td>T</td>\n",
       "      <td>C</td>\n",
       "      <td>True</td>\n",
       "      <td>0.66</td>\n",
       "      <td>False</td>\n",
       "      <td>NaN</td>\n",
       "      <td>DLP</td>\n",
       "      <td>55</td>\n",
       "      <td>0</td>\n",
       "      <td>107</td>\n",
       "      <td>4</td>\n",
       "      <td>True</td>\n",
       "      <td>True</td>\n",
       "    </tr>\n",
       "    <tr>\n",
       "      <th>6026</th>\n",
       "      <td>1</td>\n",
       "      <td>236213645</td>\n",
       "      <td>G</td>\n",
       "      <td>A</td>\n",
       "      <td>True</td>\n",
       "      <td>0.98</td>\n",
       "      <td>True</td>\n",
       "      <td>39.0</td>\n",
       "      <td>DLP</td>\n",
       "      <td>46</td>\n",
       "      <td>0</td>\n",
       "      <td>99</td>\n",
       "      <td>1</td>\n",
       "      <td>True</td>\n",
       "      <td>True</td>\n",
       "    </tr>\n",
       "    <tr>\n",
       "      <th>7849</th>\n",
       "      <td>10</td>\n",
       "      <td>38908594</td>\n",
       "      <td>A</td>\n",
       "      <td>G</td>\n",
       "      <td>True</td>\n",
       "      <td>0.55</td>\n",
       "      <td>False</td>\n",
       "      <td>NaN</td>\n",
       "      <td>DLP</td>\n",
       "      <td>7</td>\n",
       "      <td>0</td>\n",
       "      <td>10</td>\n",
       "      <td>2</td>\n",
       "      <td>True</td>\n",
       "      <td>True</td>\n",
       "    </tr>\n",
       "  </tbody>\n",
       "</table>\n",
       "</div>"
      ],
      "text/plain": [
       "     chr        pos ref alt  dlp_museq_caller  dlp_museq_score  \\\n",
       "508    1   15348612   G   A              True             0.99   \n",
       "2729   1   98435392   G   A              True             0.70   \n",
       "3994   1  158662829   T   A              True             0.96   \n",
       "4048   1  161114858   T   C              True             0.66   \n",
       "6026   1  236213645   G   A              True             0.98   \n",
       "7849  10   38908594   A   G              True             0.55   \n",
       "\n",
       "      dlp_strelka_caller  dlp_strelka_score dlp_datatype  normal_ref  \\\n",
       "508                 True              135.0          DLP          48   \n",
       "2729               False                NaN          DLP          27   \n",
       "3994                True               34.0          DLP          43   \n",
       "4048               False                NaN          DLP          55   \n",
       "6026                True               39.0          DLP          46   \n",
       "7849               False                NaN          DLP           7   \n",
       "\n",
       "      normal_alt  tumour_ref  tumour_alt  in_wgs_museq  in_wgs_strelka  \n",
       "508            0          19          48          True            True  \n",
       "2729           0          64           4          True            True  \n",
       "3994           0          39          14          True            True  \n",
       "4048           0         107           4          True            True  \n",
       "6026           0          99           1          True            True  \n",
       "7849           0          10           2          True            True  "
      ]
     },
     "execution_count": 44,
     "metadata": {},
     "output_type": "execute_result"
    }
   ],
   "source": [
    "import numpy as np\n",
    "\n",
    "\n",
    "dlp_specific = data[(data.in_wgs_museq==False)  &  (data.in_wgs_strelka==False)]\n",
    "common = data[(data.in_wgs_museq==True)  &  (data.in_wgs_strelka==True)]\n",
    "common\n"
   ]
  },
  {
   "cell_type": "code",
   "execution_count": 47,
   "metadata": {},
   "outputs": [
    {
     "data": {
      "image/png": "[encoded data removed]",
      "text/plain": [
       "<Figure size 1080x360 with 4 Axes>"
      ]
     },
     "metadata": {
      "needs_background": "light"
     },
     "output_type": "display_data"
    }
   ],
   "source": [
    "import matplotlib.pyplot as plt\n",
    "f, axes = plt.subplots(2,2, figsize=(15,5))\n",
    "\n",
    "axes[0][0].hist(dlp_specific.dlp_museq_score, bins=100)\n",
    "axes[0][1].hist(dlp_specific.dlp_strelka_score, bins=100)\n",
    "axes[1][0].hist(common.dlp_museq_score, bins=100)\n",
    "axes[1][1].hist(common.dlp_strelka_score, bins=100)\n",
    "\n",
    "axes[0][0].set_title(\"distribution of museq scores from dlp for dlp-specific snvs\")\n",
    "axes[0][1].set_title(\"distribution of strelka scores from dlp for slp-specific snvs\")\n",
    "axes[1][0].set_title(\"museq scores from dlp for common snvs (n=6)\")\n",
    "axes[1][1].set_title(\"strelka scores from dlp for common snvs (n=6)\")\n",
    "\n",
    "plt.tight_layout()\n"
   ]
  },
  {
   "cell_type": "code",
   "execution_count": null,
   "metadata": {},
   "outputs": [],
   "source": []
  }
 ],
 "metadata": {
  "kernelspec": {
   "display_name": "mypython3",
   "language": "python",
   "name": "mypython3"
  },
  "language_info": {
   "codemirror_mode": {
    "name": "ipython",
    "version": 3
   },
   "file_extension": ".py",
   "mimetype": "text/x-python",
   "name": "python",
   "nbconvert_exporter": "python",
   "pygments_lexer": "ipython3",
   "version": "3.7.1"
  }
 },
 "nbformat": 4,
 "nbformat_minor": 2
}
