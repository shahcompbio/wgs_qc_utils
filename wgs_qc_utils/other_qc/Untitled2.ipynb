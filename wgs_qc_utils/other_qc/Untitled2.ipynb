{
 "cells": [
  {
   "cell_type": "code",
   "execution_count": 1,
   "metadata": {},
   "outputs": [],
   "source": [
    "import fire"
   ]
  },
  {
   "cell_type": "code",
   "execution_count": 4,
   "metadata": {},
   "outputs": [
    {
     "name": "stderr",
     "output_type": "stream",
     "text": [
      "\u001b[1m\u001b[31mERROR: \u001b[0mCould not consume arg: -f\n",
      "Usage: ipykernel_launcher.py <command>\n",
      "  available commands:    capitalize | casefold | center | count | encode |\n",
      "                         endswith | expandtabs | find | format | format_map |\n",
      "                         index | isalnum | isalpha | isascii | isdecimal |\n",
      "                         isdigit | isidentifier | islower | isnumeric |\n",
      "                         isprintable | isspace | istitle | isupper | join |\n",
      "                         ljust | lower | lstrip | maketrans | partition |\n",
      "                         replace | rfind | rindex | rjust | rpartition |\n",
      "                         rsplit | rstrip | split | splitlines | startswith |\n",
      "                         strip | swapcase | title | translate | upper | zfill\n",
      "\n",
      "For detailed information on this command, run:\n",
      "  ipykernel_launcher.py --help\n"
     ]
    },
    {
     "ename": "FireExit",
     "evalue": "2",
     "output_type": "error",
     "traceback": [
      "An exception has occurred, use %tb to see the full traceback.\n",
      "\u001b[0;31mFireExit\u001b[0m\u001b[0;31m:\u001b[0m 2\n"
     ]
    }
   ],
   "source": [
    "a = \"1\"\n",
    "\n",
    "fire.Fire(a)"
   ]
  },
  {
   "cell_type": "code",
   "execution_count": null,
   "metadata": {},
   "outputs": [],
   "source": []
  }
 ],
 "metadata": {
  "kernelspec": {
   "display_name": "mypython3",
   "language": "python",
   "name": "mypython3"
  },
  "language_info": {
   "codemirror_mode": {
    "name": "ipython",
    "version": 3
   },
   "file_extension": ".py",
   "mimetype": "text/x-python",
   "name": "python",
   "nbconvert_exporter": "python",
   "pygments_lexer": "ipython3",
   "version": "3.7.1"
  }
 },
 "nbformat": 4,
 "nbformat_minor": 4
}
